{
 "cells": [
  {
   "cell_type": "markdown",
   "metadata": {},
   "source": [
    "Import Important Library"
   ]
  },
  {
   "cell_type": "code",
   "execution_count": 11,
   "metadata": {},
   "outputs": [],
   "source": [
    "import pandas as pd\n",
    "import numpy as np\n",
    "import matplotlib.pyplot as plt\n",
    "import seaborn as sns\n",
    "from tqdm.auto import tqdm"
   ]
  },
  {
   "cell_type": "markdown",
   "metadata": {},
   "source": [
    "Important Dataset"
   ]
  },
  {
   "cell_type": "code",
   "execution_count": 12,
   "metadata": {},
   "outputs": [],
   "source": [
    "df=pd.read_csv(\"D:\\DBMS\\HealthApp_2k.log_structured.csv\")"
   ]
  },
  {
   "cell_type": "code",
   "execution_count": 13,
   "metadata": {},
   "outputs": [
    {
     "name": "stdout",
     "output_type": "stream",
     "text": [
      "<class 'pandas.core.frame.DataFrame'>\n",
      "RangeIndex: 2000 entries, 0 to 1999\n",
      "Data columns (total 7 columns):\n",
      " #   Column         Non-Null Count  Dtype \n",
      "---  ------         --------------  ----- \n",
      " 0   LineId         2000 non-null   int64 \n",
      " 1   Time           2000 non-null   object\n",
      " 2   Component      2000 non-null   object\n",
      " 3   Pid            2000 non-null   int64 \n",
      " 4   Content        2000 non-null   object\n",
      " 5   EventId        2000 non-null   object\n",
      " 6   EventTemplate  2000 non-null   object\n",
      "dtypes: int64(2), object(5)\n",
      "memory usage: 109.5+ KB\n"
     ]
    }
   ],
   "source": [
    "df.info()"
   ]
  },
  {
   "cell_type": "code",
   "execution_count": 14,
   "metadata": {},
   "outputs": [
    {
     "data": {
      "text/plain": [
       "LineId           0\n",
       "Time             0\n",
       "Component        0\n",
       "Pid              0\n",
       "Content          0\n",
       "EventId          0\n",
       "EventTemplate    0\n",
       "dtype: int64"
      ]
     },
     "execution_count": 14,
     "metadata": {},
     "output_type": "execute_result"
    }
   ],
   "source": [
    "df.isna().sum()"
   ]
  },
  {
   "cell_type": "markdown",
   "metadata": {},
   "source": [
    "**There is Not available Null Value**"
   ]
  },
  {
   "cell_type": "code",
   "execution_count": 30,
   "metadata": {},
   "outputs": [
    {
     "data": {
      "text/html": [
       "<div>\n",
       "<style scoped>\n",
       "    .dataframe tbody tr th:only-of-type {\n",
       "        vertical-align: middle;\n",
       "    }\n",
       "\n",
       "    .dataframe tbody tr th {\n",
       "        vertical-align: top;\n",
       "    }\n",
       "\n",
       "    .dataframe thead th {\n",
       "        text-align: right;\n",
       "    }\n",
       "</style>\n",
       "<table border=\"1\" class=\"dataframe\">\n",
       "  <thead>\n",
       "    <tr style=\"text-align: right;\">\n",
       "      <th></th>\n",
       "      <th>LineId</th>\n",
       "      <th>Time</th>\n",
       "      <th>Component</th>\n",
       "      <th>Pid</th>\n",
       "      <th>Content</th>\n",
       "      <th>EventId</th>\n",
       "      <th>EventTemplate</th>\n",
       "      <th>Date</th>\n",
       "      <th>Hour</th>\n",
       "      <th>minute</th>\n",
       "      <th>second</th>\n",
       "      <th>Steps</th>\n",
       "      <th>Count</th>\n",
       "    </tr>\n",
       "  </thead>\n",
       "  <tbody>\n",
       "    <tr>\n",
       "      <th>0</th>\n",
       "      <td>1</td>\n",
       "      <td>2017-12-23 22:15:29.606</td>\n",
       "      <td>Step_LSC</td>\n",
       "      <td>30002312</td>\n",
       "      <td>onStandStepChanged 3579</td>\n",
       "      <td>E42</td>\n",
       "      <td>onStandStepChanged &lt;*&gt;</td>\n",
       "      <td>2017-12-23</td>\n",
       "      <td>22</td>\n",
       "      <td>15</td>\n",
       "      <td>29</td>\n",
       "      <td>3579.0</td>\n",
       "      <td>1</td>\n",
       "    </tr>\n",
       "    <tr>\n",
       "      <th>1</th>\n",
       "      <td>2</td>\n",
       "      <td>2017-12-23 22:15:29.615</td>\n",
       "      <td>Step_LSC</td>\n",
       "      <td>30002312</td>\n",
       "      <td>onExtend:1514038530000 14 0 4</td>\n",
       "      <td>E39</td>\n",
       "      <td>onExtend:&lt;*&gt; &lt;*&gt; &lt;*&gt; &lt;*&gt;</td>\n",
       "      <td>2017-12-23</td>\n",
       "      <td>22</td>\n",
       "      <td>15</td>\n",
       "      <td>29</td>\n",
       "      <td>NaN</td>\n",
       "      <td>1</td>\n",
       "    </tr>\n",
       "    <tr>\n",
       "      <th>2</th>\n",
       "      <td>3</td>\n",
       "      <td>2017-12-23 22:15:29.633</td>\n",
       "      <td>Step_StandReportReceiver</td>\n",
       "      <td>30002312</td>\n",
       "      <td>onReceive action: android.intent.action.SCREEN_ON</td>\n",
       "      <td>E41</td>\n",
       "      <td>onReceive action: android.intent.action.SCREEN_ON</td>\n",
       "      <td>2017-12-23</td>\n",
       "      <td>22</td>\n",
       "      <td>15</td>\n",
       "      <td>29</td>\n",
       "      <td>NaN</td>\n",
       "      <td>1</td>\n",
       "    </tr>\n",
       "    <tr>\n",
       "      <th>3</th>\n",
       "      <td>4</td>\n",
       "      <td>2017-12-23 22:15:29.635</td>\n",
       "      <td>Step_LSC</td>\n",
       "      <td>30002312</td>\n",
       "      <td>processHandleBroadcastAction action:android.in...</td>\n",
       "      <td>E43</td>\n",
       "      <td>processHandleBroadcastAction action:android.in...</td>\n",
       "      <td>2017-12-23</td>\n",
       "      <td>22</td>\n",
       "      <td>15</td>\n",
       "      <td>29</td>\n",
       "      <td>NaN</td>\n",
       "      <td>1</td>\n",
       "    </tr>\n",
       "    <tr>\n",
       "      <th>4</th>\n",
       "      <td>5</td>\n",
       "      <td>2017-12-23 22:15:29.635</td>\n",
       "      <td>Step_StandStepCounter</td>\n",
       "      <td>30002312</td>\n",
       "      <td>flush sensor data</td>\n",
       "      <td>E12</td>\n",
       "      <td>flush sensor data</td>\n",
       "      <td>2017-12-23</td>\n",
       "      <td>22</td>\n",
       "      <td>15</td>\n",
       "      <td>29</td>\n",
       "      <td>NaN</td>\n",
       "      <td>1</td>\n",
       "    </tr>\n",
       "  </tbody>\n",
       "</table>\n",
       "</div>"
      ],
      "text/plain": [
       "   LineId                    Time                 Component       Pid  \\\n",
       "0       1 2017-12-23 22:15:29.606                  Step_LSC  30002312   \n",
       "1       2 2017-12-23 22:15:29.615                  Step_LSC  30002312   \n",
       "2       3 2017-12-23 22:15:29.633  Step_StandReportReceiver  30002312   \n",
       "3       4 2017-12-23 22:15:29.635                  Step_LSC  30002312   \n",
       "4       5 2017-12-23 22:15:29.635     Step_StandStepCounter  30002312   \n",
       "\n",
       "                                             Content EventId  \\\n",
       "0                            onStandStepChanged 3579     E42   \n",
       "1                      onExtend:1514038530000 14 0 4     E39   \n",
       "2  onReceive action: android.intent.action.SCREEN_ON     E41   \n",
       "3  processHandleBroadcastAction action:android.in...     E43   \n",
       "4                                  flush sensor data     E12   \n",
       "\n",
       "                                       EventTemplate        Date  Hour  \\\n",
       "0                             onStandStepChanged <*>  2017-12-23    22   \n",
       "1                           onExtend:<*> <*> <*> <*>  2017-12-23    22   \n",
       "2  onReceive action: android.intent.action.SCREEN_ON  2017-12-23    22   \n",
       "3  processHandleBroadcastAction action:android.in...  2017-12-23    22   \n",
       "4                                  flush sensor data  2017-12-23    22   \n",
       "\n",
       "   minute  second   Steps  Count  \n",
       "0      15      29  3579.0      1  \n",
       "1      15      29     NaN      1  \n",
       "2      15      29     NaN      1  \n",
       "3      15      29     NaN      1  \n",
       "4      15      29     NaN      1  "
      ]
     },
     "execution_count": 30,
     "metadata": {},
     "output_type": "execute_result"
    }
   ],
   "source": [
    "df.head(5)"
   ]
  },
  {
   "cell_type": "code",
   "execution_count": 16,
   "metadata": {},
   "outputs": [
    {
     "data": {
      "text/plain": [
       "0"
      ]
     },
     "execution_count": 16,
     "metadata": {},
     "output_type": "execute_result"
    }
   ],
   "source": [
    "df.duplicated().sum()"
   ]
  },
  {
   "cell_type": "markdown",
   "metadata": {},
   "source": [
    "**There is Not available duplicate Value**"
   ]
  },
  {
   "cell_type": "code",
   "execution_count": 17,
   "metadata": {},
   "outputs": [
    {
     "data": {
      "text/html": [
       "<div>\n",
       "<style scoped>\n",
       "    .dataframe tbody tr th:only-of-type {\n",
       "        vertical-align: middle;\n",
       "    }\n",
       "\n",
       "    .dataframe tbody tr th {\n",
       "        vertical-align: top;\n",
       "    }\n",
       "\n",
       "    .dataframe thead th {\n",
       "        text-align: right;\n",
       "    }\n",
       "</style>\n",
       "<table border=\"1\" class=\"dataframe\">\n",
       "  <thead>\n",
       "    <tr style=\"text-align: right;\">\n",
       "      <th></th>\n",
       "      <th>LineId</th>\n",
       "      <th>Pid</th>\n",
       "    </tr>\n",
       "  </thead>\n",
       "  <tbody>\n",
       "    <tr>\n",
       "      <th>count</th>\n",
       "      <td>2000.000000</td>\n",
       "      <td>2000.0</td>\n",
       "    </tr>\n",
       "    <tr>\n",
       "      <th>mean</th>\n",
       "      <td>1000.500000</td>\n",
       "      <td>30002312.0</td>\n",
       "    </tr>\n",
       "    <tr>\n",
       "      <th>std</th>\n",
       "      <td>577.494589</td>\n",
       "      <td>0.0</td>\n",
       "    </tr>\n",
       "    <tr>\n",
       "      <th>min</th>\n",
       "      <td>1.000000</td>\n",
       "      <td>30002312.0</td>\n",
       "    </tr>\n",
       "    <tr>\n",
       "      <th>25%</th>\n",
       "      <td>500.750000</td>\n",
       "      <td>30002312.0</td>\n",
       "    </tr>\n",
       "    <tr>\n",
       "      <th>50%</th>\n",
       "      <td>1000.500000</td>\n",
       "      <td>30002312.0</td>\n",
       "    </tr>\n",
       "    <tr>\n",
       "      <th>75%</th>\n",
       "      <td>1500.250000</td>\n",
       "      <td>30002312.0</td>\n",
       "    </tr>\n",
       "    <tr>\n",
       "      <th>max</th>\n",
       "      <td>2000.000000</td>\n",
       "      <td>30002312.0</td>\n",
       "    </tr>\n",
       "  </tbody>\n",
       "</table>\n",
       "</div>"
      ],
      "text/plain": [
       "            LineId         Pid\n",
       "count  2000.000000      2000.0\n",
       "mean   1000.500000  30002312.0\n",
       "std     577.494589         0.0\n",
       "min       1.000000  30002312.0\n",
       "25%     500.750000  30002312.0\n",
       "50%    1000.500000  30002312.0\n",
       "75%    1500.250000  30002312.0\n",
       "max    2000.000000  30002312.0"
      ]
     },
     "execution_count": 17,
     "metadata": {},
     "output_type": "execute_result"
    }
   ],
   "source": [
    "df.describe()"
   ]
  },
  {
   "cell_type": "code",
   "execution_count": 31,
   "metadata": {},
   "outputs": [
    {
     "data": {
      "text/plain": [
       "LineId           2000\n",
       "Time             1711\n",
       "Component          20\n",
       "Pid                 1\n",
       "Content          1179\n",
       "EventId            75\n",
       "EventTemplate      75\n",
       "Date                2\n",
       "Hour                4\n",
       "minute             60\n",
       "second             59\n",
       "Steps             118\n",
       "Count               1\n",
       "dtype: int64"
      ]
     },
     "execution_count": 31,
     "metadata": {},
     "output_type": "execute_result"
    }
   ],
   "source": [
    "df.nunique()"
   ]
  },
  {
   "cell_type": "code",
   "execution_count": 20,
   "metadata": {},
   "outputs": [],
   "source": [
    "df['Time'] = pd.to_datetime(df['Time'], \n",
    "                            format='%Y%m%d-%H:%M:%S:%f', errors='coerce')\n"
   ]
  },
  {
   "cell_type": "code",
   "execution_count": 21,
   "metadata": {},
   "outputs": [],
   "source": [
    "df['Date'] = df['Time'].dt.date\n",
    "df['Hour'] = df['Time'].dt.hour\n",
    "df['minute']=df['Time'].dt.minute\n",
    "df['second']=df['Time'].dt.second"
   ]
  },
  {
   "cell_type": "code",
   "execution_count": 22,
   "metadata": {},
   "outputs": [
    {
     "data": {
      "text/html": [
       "<div>\n",
       "<style scoped>\n",
       "    .dataframe tbody tr th:only-of-type {\n",
       "        vertical-align: middle;\n",
       "    }\n",
       "\n",
       "    .dataframe tbody tr th {\n",
       "        vertical-align: top;\n",
       "    }\n",
       "\n",
       "    .dataframe thead th {\n",
       "        text-align: right;\n",
       "    }\n",
       "</style>\n",
       "<table border=\"1\" class=\"dataframe\">\n",
       "  <thead>\n",
       "    <tr style=\"text-align: right;\">\n",
       "      <th></th>\n",
       "      <th>LineId</th>\n",
       "      <th>Time</th>\n",
       "      <th>Component</th>\n",
       "      <th>Pid</th>\n",
       "      <th>Content</th>\n",
       "      <th>EventId</th>\n",
       "      <th>EventTemplate</th>\n",
       "      <th>Date</th>\n",
       "      <th>Hour</th>\n",
       "      <th>minute</th>\n",
       "      <th>second</th>\n",
       "    </tr>\n",
       "  </thead>\n",
       "  <tbody>\n",
       "    <tr>\n",
       "      <th>0</th>\n",
       "      <td>1</td>\n",
       "      <td>2017-12-23 22:15:29.606</td>\n",
       "      <td>Step_LSC</td>\n",
       "      <td>30002312</td>\n",
       "      <td>onStandStepChanged 3579</td>\n",
       "      <td>E42</td>\n",
       "      <td>onStandStepChanged &lt;*&gt;</td>\n",
       "      <td>2017-12-23</td>\n",
       "      <td>22</td>\n",
       "      <td>15</td>\n",
       "      <td>29</td>\n",
       "    </tr>\n",
       "    <tr>\n",
       "      <th>1</th>\n",
       "      <td>2</td>\n",
       "      <td>2017-12-23 22:15:29.615</td>\n",
       "      <td>Step_LSC</td>\n",
       "      <td>30002312</td>\n",
       "      <td>onExtend:1514038530000 14 0 4</td>\n",
       "      <td>E39</td>\n",
       "      <td>onExtend:&lt;*&gt; &lt;*&gt; &lt;*&gt; &lt;*&gt;</td>\n",
       "      <td>2017-12-23</td>\n",
       "      <td>22</td>\n",
       "      <td>15</td>\n",
       "      <td>29</td>\n",
       "    </tr>\n",
       "    <tr>\n",
       "      <th>2</th>\n",
       "      <td>3</td>\n",
       "      <td>2017-12-23 22:15:29.633</td>\n",
       "      <td>Step_StandReportReceiver</td>\n",
       "      <td>30002312</td>\n",
       "      <td>onReceive action: android.intent.action.SCREEN_ON</td>\n",
       "      <td>E41</td>\n",
       "      <td>onReceive action: android.intent.action.SCREEN_ON</td>\n",
       "      <td>2017-12-23</td>\n",
       "      <td>22</td>\n",
       "      <td>15</td>\n",
       "      <td>29</td>\n",
       "    </tr>\n",
       "    <tr>\n",
       "      <th>3</th>\n",
       "      <td>4</td>\n",
       "      <td>2017-12-23 22:15:29.635</td>\n",
       "      <td>Step_LSC</td>\n",
       "      <td>30002312</td>\n",
       "      <td>processHandleBroadcastAction action:android.in...</td>\n",
       "      <td>E43</td>\n",
       "      <td>processHandleBroadcastAction action:android.in...</td>\n",
       "      <td>2017-12-23</td>\n",
       "      <td>22</td>\n",
       "      <td>15</td>\n",
       "      <td>29</td>\n",
       "    </tr>\n",
       "    <tr>\n",
       "      <th>4</th>\n",
       "      <td>5</td>\n",
       "      <td>2017-12-23 22:15:29.635</td>\n",
       "      <td>Step_StandStepCounter</td>\n",
       "      <td>30002312</td>\n",
       "      <td>flush sensor data</td>\n",
       "      <td>E12</td>\n",
       "      <td>flush sensor data</td>\n",
       "      <td>2017-12-23</td>\n",
       "      <td>22</td>\n",
       "      <td>15</td>\n",
       "      <td>29</td>\n",
       "    </tr>\n",
       "    <tr>\n",
       "      <th>...</th>\n",
       "      <td>...</td>\n",
       "      <td>...</td>\n",
       "      <td>...</td>\n",
       "      <td>...</td>\n",
       "      <td>...</td>\n",
       "      <td>...</td>\n",
       "      <td>...</td>\n",
       "      <td>...</td>\n",
       "      <td>...</td>\n",
       "      <td>...</td>\n",
       "      <td>...</td>\n",
       "    </tr>\n",
       "    <tr>\n",
       "      <th>1995</th>\n",
       "      <td>1996</td>\n",
       "      <td>2017-12-24 00:58:53.985</td>\n",
       "      <td>Step_LSC</td>\n",
       "      <td>30002312</td>\n",
       "      <td>processHandleBroadcastAction action:android.in...</td>\n",
       "      <td>E44</td>\n",
       "      <td>processHandleBroadcastAction action:android.in...</td>\n",
       "      <td>2017-12-24</td>\n",
       "      <td>0</td>\n",
       "      <td>58</td>\n",
       "      <td>53</td>\n",
       "    </tr>\n",
       "    <tr>\n",
       "      <th>1996</th>\n",
       "      <td>1997</td>\n",
       "      <td>2017-12-24 00:59:07.581</td>\n",
       "      <td>Step_LSC</td>\n",
       "      <td>30002312</td>\n",
       "      <td>processHandleBroadcastAction action:android.in...</td>\n",
       "      <td>E44</td>\n",
       "      <td>processHandleBroadcastAction action:android.in...</td>\n",
       "      <td>2017-12-24</td>\n",
       "      <td>0</td>\n",
       "      <td>59</td>\n",
       "      <td>7</td>\n",
       "    </tr>\n",
       "    <tr>\n",
       "      <th>1997</th>\n",
       "      <td>1998</td>\n",
       "      <td>2017-12-24 01:00:00.794</td>\n",
       "      <td>Step_LSC</td>\n",
       "      <td>30002312</td>\n",
       "      <td>processHandleBroadcastAction action:android.in...</td>\n",
       "      <td>E44</td>\n",
       "      <td>processHandleBroadcastAction action:android.in...</td>\n",
       "      <td>2017-12-24</td>\n",
       "      <td>1</td>\n",
       "      <td>0</td>\n",
       "      <td>0</td>\n",
       "    </tr>\n",
       "    <tr>\n",
       "      <th>1998</th>\n",
       "      <td>1999</td>\n",
       "      <td>2017-12-24 01:01:00.935</td>\n",
       "      <td>Step_LSC</td>\n",
       "      <td>30002312</td>\n",
       "      <td>processHandleBroadcastAction action:android.in...</td>\n",
       "      <td>E44</td>\n",
       "      <td>processHandleBroadcastAction action:android.in...</td>\n",
       "      <td>2017-12-24</td>\n",
       "      <td>1</td>\n",
       "      <td>1</td>\n",
       "      <td>0</td>\n",
       "    </tr>\n",
       "    <tr>\n",
       "      <th>1999</th>\n",
       "      <td>2000</td>\n",
       "      <td>2017-12-24 01:02:35.789</td>\n",
       "      <td>Step_LSC</td>\n",
       "      <td>30002312</td>\n",
       "      <td>processHandleBroadcastAction action:android.in...</td>\n",
       "      <td>E44</td>\n",
       "      <td>processHandleBroadcastAction action:android.in...</td>\n",
       "      <td>2017-12-24</td>\n",
       "      <td>1</td>\n",
       "      <td>2</td>\n",
       "      <td>35</td>\n",
       "    </tr>\n",
       "  </tbody>\n",
       "</table>\n",
       "<p>2000 rows × 11 columns</p>\n",
       "</div>"
      ],
      "text/plain": [
       "      LineId                    Time                 Component       Pid  \\\n",
       "0          1 2017-12-23 22:15:29.606                  Step_LSC  30002312   \n",
       "1          2 2017-12-23 22:15:29.615                  Step_LSC  30002312   \n",
       "2          3 2017-12-23 22:15:29.633  Step_StandReportReceiver  30002312   \n",
       "3          4 2017-12-23 22:15:29.635                  Step_LSC  30002312   \n",
       "4          5 2017-12-23 22:15:29.635     Step_StandStepCounter  30002312   \n",
       "...      ...                     ...                       ...       ...   \n",
       "1995    1996 2017-12-24 00:58:53.985                  Step_LSC  30002312   \n",
       "1996    1997 2017-12-24 00:59:07.581                  Step_LSC  30002312   \n",
       "1997    1998 2017-12-24 01:00:00.794                  Step_LSC  30002312   \n",
       "1998    1999 2017-12-24 01:01:00.935                  Step_LSC  30002312   \n",
       "1999    2000 2017-12-24 01:02:35.789                  Step_LSC  30002312   \n",
       "\n",
       "                                                Content EventId  \\\n",
       "0                               onStandStepChanged 3579     E42   \n",
       "1                         onExtend:1514038530000 14 0 4     E39   \n",
       "2     onReceive action: android.intent.action.SCREEN_ON     E41   \n",
       "3     processHandleBroadcastAction action:android.in...     E43   \n",
       "4                                     flush sensor data     E12   \n",
       "...                                                 ...     ...   \n",
       "1995  processHandleBroadcastAction action:android.in...     E44   \n",
       "1996  processHandleBroadcastAction action:android.in...     E44   \n",
       "1997  processHandleBroadcastAction action:android.in...     E44   \n",
       "1998  processHandleBroadcastAction action:android.in...     E44   \n",
       "1999  processHandleBroadcastAction action:android.in...     E44   \n",
       "\n",
       "                                          EventTemplate        Date  Hour  \\\n",
       "0                                onStandStepChanged <*>  2017-12-23    22   \n",
       "1                              onExtend:<*> <*> <*> <*>  2017-12-23    22   \n",
       "2     onReceive action: android.intent.action.SCREEN_ON  2017-12-23    22   \n",
       "3     processHandleBroadcastAction action:android.in...  2017-12-23    22   \n",
       "4                                     flush sensor data  2017-12-23    22   \n",
       "...                                                 ...         ...   ...   \n",
       "1995  processHandleBroadcastAction action:android.in...  2017-12-24     0   \n",
       "1996  processHandleBroadcastAction action:android.in...  2017-12-24     0   \n",
       "1997  processHandleBroadcastAction action:android.in...  2017-12-24     1   \n",
       "1998  processHandleBroadcastAction action:android.in...  2017-12-24     1   \n",
       "1999  processHandleBroadcastAction action:android.in...  2017-12-24     1   \n",
       "\n",
       "      minute  second  \n",
       "0         15      29  \n",
       "1         15      29  \n",
       "2         15      29  \n",
       "3         15      29  \n",
       "4         15      29  \n",
       "...      ...     ...  \n",
       "1995      58      53  \n",
       "1996      59       7  \n",
       "1997       0       0  \n",
       "1998       1       0  \n",
       "1999       2      35  \n",
       "\n",
       "[2000 rows x 11 columns]"
      ]
     },
     "execution_count": 22,
     "metadata": {},
     "output_type": "execute_result"
    }
   ],
   "source": [
    "df"
   ]
  },
  {
   "cell_type": "code",
   "execution_count": 23,
   "metadata": {},
   "outputs": [],
   "source": [
    "df_steps = df[df['EventTemplate'].str.contains('onStandStepChanged')]"
   ]
  },
  {
   "cell_type": "code",
   "execution_count": 24,
   "metadata": {},
   "outputs": [],
   "source": [
    "step_pattern = 'onStandStepChanged (\\d+)'\n",
    "df['Steps'] = df['Content'].str.extract(step_pattern).astype(float)"
   ]
  },
  {
   "cell_type": "markdown",
   "metadata": {},
   "source": [
    "The visualization of the daily steps count:"
   ]
  },
  {
   "cell_type": "code",
   "execution_count": 25,
   "metadata": {},
   "outputs": [
    {
     "data": {
      "image/png": "[encoded data removed]",
      "text/plain": [
       "<Figure size 1400x700 with 1 Axes>"
      ]
     },
     "metadata": {},
     "output_type": "display_data"
    }
   ],
   "source": [
    "plt.figure(figsize=(14, 7))\n",
    "df.groupby('Date')['Steps'].sum().plot(kind='bar')\n",
    "plt.title('Total Steps Taken Each Day')\n",
    "plt.xlabel('Date')\n",
    "plt.ylabel('Total Steps')\n",
    "plt.xticks(rotation=90)\n",
    "plt.grid(axis='y')\n",
    "plt.show()"
   ]
  },
  {
   "cell_type": "markdown",
   "metadata": {},
   "source": [
    "I will analyze the active times based on the logs. \n",
    "Here's a preview of the log entries by hour for the first few hours available in the dataset:"
   ]
  },
  {
   "cell_type": "code",
   "execution_count": 26,
   "metadata": {},
   "outputs": [
    {
     "data": {
      "image/png": "[encoded data removed]",
      "text/plain": [
       "<Figure size 1400x700 with 1 Axes>"
      ]
     },
     "metadata": {},
     "output_type": "display_data"
    }
   ],
   "source": [
    "plt.figure(figsize=(14, 7))\n",
    "sns.countplot(x='Hour', data=df)\n",
    "plt.title('Distribution of Events by Hour of the Day')\n",
    "plt.xlabel('Hour of the Day')\n",
    "plt.ylabel('Number of Events')\n",
    "plt.xticks(range(0, 24))\n",
    "plt.grid(axis='y')\n",
    "plt.show()"
   ]
  },
  {
   "cell_type": "code",
   "execution_count": 27,
   "metadata": {},
   "outputs": [
    {
     "data": {
      "image/png": "[encoded data removed]",
      "text/plain": [
       "<Figure size 1400x700 with 1 Axes>"
      ]
     },
     "metadata": {},
     "output_type": "display_data"
    }
   ],
   "source": [
    "\n",
    "# Plot the distribution of events over different days to identify workout patterns\n",
    "plt.figure(figsize=(14, 7))\n",
    "sns.countplot(x='Date', data=df)\n",
    "plt.title('Distribution of Events by Date')\n",
    "plt.xlabel('Date')\n",
    "plt.ylabel('Number of Events')\n",
    "plt.xticks(rotation=90)\n",
    "plt.grid(axis='y')\n",
    "plt.show()\n"
   ]
  },
  {
   "cell_type": "code",
   "execution_count": 28,
   "metadata": {},
   "outputs": [
    {
     "data": {
      "image/png": "[encoded data removed]",
      "text/plain": [
       "<Figure size 1400x700 with 1 Axes>"
      ]
     },
     "metadata": {},
     "output_type": "display_data"
    },
    {
     "data": {
      "text/plain": [
       "{'hourly_activity_head': Hour\n",
       " 0      221\n",
       " 1        3\n",
       " 22    1243\n",
       " 23     533\n",
       " Name: Count, dtype: int64}"
      ]
     },
     "execution_count": 28,
     "metadata": {},
     "output_type": "execute_result"
    }
   ],
   "source": [
    "df['Count'] = 1\n",
    "hourly_activity = df.groupby('Hour')['Count'].sum()\n",
    "\n",
    "# Plot the hourly activity\n",
    "hourly_activity.plot(kind='bar', figsize=(14, 7))\n",
    "plt.title('Hourly Activity')\n",
    "plt.xlabel('Hour of the Day')\n",
    "plt.ylabel('Number of Log Entries')\n",
    "plt.xticks(range(0, 24), rotation=0)\n",
    "plt.tight_layout()\n",
    "plt.show()\n",
    "\n",
    "# Return the head of the hourly activity for a preview\n",
    "{'hourly_activity_head': hourly_activity.head()}"
   ]
  },
  {
   "cell_type": "markdown",
   "metadata": {},
   "source": [
    "This graph indicates the users active times throughout the day based on the number of log entries. \n",
    "The next step would be to analyze specific workout times if such events are logged. Shall we proceed with this analysis?"
   ]
  }
 ],
 "metadata": {
  "kernelspec": {
   "display_name": "Python 3",
   "language": "python",
   "name": "python3"
  },
  "language_info": {
   "codemirror_mode": {
    "name": "ipython",
    "version": 3
   },
   "file_extension": ".py",
   "mimetype": "text/x-python",
   "name": "python",
   "nbconvert_exporter": "python",
   "pygments_lexer": "ipython3",
   "version": "3.11.2"
  }
 },
 "nbformat": 4,
 "nbformat_minor": 2
}
